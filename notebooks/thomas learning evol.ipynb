{
 "cells": [
  {
   "cell_type": "code",
   "execution_count": 1,
   "id": "f241eb5a",
   "metadata": {},
   "outputs": [
    {
     "name": "stdout",
     "output_type": "stream",
     "text": [
      "C:\\Users\\pinak\\Documents\\GitHub\\non-grad3D\n"
     ]
    }
   ],
   "source": [
    "import os, sys\n",
    "from pathlib import Path\n",
    "script_dir = Path(os.path.dirname(os.path.abspath('')))\n",
    "module_dir = str(script_dir)\n",
    "sys.path.insert(0, module_dir + '/modules')\n",
    "print(module_dir)\n",
    "# import the necessary modules\n",
    "import numpy as np\n",
    "import tensorflow as tf\n",
    "import lss_solver as lss\n",
    "tf.compat.v1.logging.set_verbosity(tf.compat.v1.logging.ERROR)"
   ]
  },
  {
   "cell_type": "code",
   "execution_count": null,
   "id": "18fc0062",
   "metadata": {},
   "outputs": [],
   "source": [
    "from mpl_toolkits.mplot3d import Axes3D\n",
    "import matplotlib.animation as animation\n",
    "\n",
    "dim = 3\n",
    "\n",
    "def get_net(iter):\n",
    "    net = arch.LSTMForgetNet(num_nodes=50, num_blocks=3)\n",
    "    net.load_weights('../../data/thomas-true-vs-learned/thomas_{}'.format(iter)).expect_partial()\n",
    "    return net\n",
    "\n",
    "fig = plt.figure(figsize=(5, 5))\n",
    "ax = fig.add_subplot(111, projection='3d')\n",
    "low = [-4., -4., -4.]\n",
    "high = [4., 4., 4.]\n",
    "resolution = 50\n",
    "x = np.linspace(low[0], high[0], num=resolution, endpoint=True).astype('float32')\n",
    "y = np.linspace(low[1], high[1], num=resolution, endpoint=True).astype('float32')\n",
    "y = np.repeat(y, resolution, axis=0).reshape((-1, 1))\n",
    "x = np.array(list(x) * resolution).reshape((-1, 1))\n",
    "iters = list(range(0, 10000, 100))\n",
    "z = [get_net(iter) for iter in iters]\n",
    "delta = 8.0 / (resolution-1)\n",
    "\n",
    "def func(frame):\n",
    "    ax.clear()\n",
    "    z_l = np.exp(z[int(frame/100)](x, y).numpy())\n",
    "    z_l /= (z_l.sum() * delta**2)\n",
    "    grid = (resolution, resolution)\n",
    "    x_ = x.reshape(grid)\n",
    "    y_ = y.reshape(grid)\n",
    "    z_l = z_l.reshape(grid)\n",
    "    im = ax.plot_surface(x_, y_, z_l, cmap='inferno_r')\n",
    "    ax.set_title('iteration = {}'.format(frame), fontsize=15)\n",
    "    ax.set_zlim(0, 0.2)\n",
    "    ax.grid(False)\n",
    "    plt.tight_layout()\n",
    "    #fig.colorbar(im, ax=ax)\n",
    "anim = animation.FuncAnimation(fig=fig, func=func, frames=iters, repeat=False)\n",
    "anim.save('learning_thomas.mp4', writer='ffmpeg', fps=12)"
   ]
  }
 ],
 "metadata": {
  "kernelspec": {
   "display_name": "Python 3 (ipykernel)",
   "language": "python",
   "name": "python3"
  },
  "language_info": {
   "codemirror_mode": {
    "name": "ipython",
    "version": 3
   },
   "file_extension": ".py",
   "mimetype": "text/x-python",
   "name": "python",
   "nbconvert_exporter": "python",
   "pygments_lexer": "ipython3",
   "version": "3.9.9"
  }
 },
 "nbformat": 4,
 "nbformat_minor": 5
}
